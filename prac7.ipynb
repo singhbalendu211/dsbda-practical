{
 "cells": [
  {
   "cell_type": "markdown",
   "id": "183e5206-26dc-4236-921c-161c8f363648",
   "metadata": {},
   "source": [
    "#  Text Analytics\n",
    "1. Extract Sample document and apply following document preprocessing methods:\n",
    "Tokenization, POS Tagging, stop words removal, Stemming and Lemmatization.\n",
    "2. Create representation of document by calculating Term Frequency and Inverse Document \n",
    "Frequency"
   ]
  },
  {
   "cell_type": "code",
   "execution_count": 1,
   "id": "cbefda9a-bcac-4aed-87b9-b8d86ef3d326",
   "metadata": {},
   "outputs": [],
   "source": [
    "import nltk\n",
    "from nltk.tokenize import word_tokenize\n",
    "from nltk.corpus import stopwords\n",
    "from nltk.stem import PorterStemmer, WordNetLemmatizer\n",
    "from nltk import pos_tag\n",
    "from sklearn.feature_extraction.text import TfidfVectorizer\n",
    "import string"
   ]
  },
  {
   "cell_type": "code",
   "execution_count": 17,
   "id": "567877c0-4f12-4809-acdc-c177482c5445",
   "metadata": {},
   "outputs": [
    {
     "name": "stderr",
     "output_type": "stream",
     "text": [
      "[nltk_data] Downloading package punkt to C:\\Users\\balendu\n",
      "[nltk_data]     singh\\AppData\\Roaming\\nltk_data...\n",
      "[nltk_data]   Package punkt is already up-to-date!\n",
      "[nltk_data] Downloading package stopwords to C:\\Users\\balendu\n",
      "[nltk_data]     singh\\AppData\\Roaming\\nltk_data...\n",
      "[nltk_data]   Package stopwords is already up-to-date!\n",
      "[nltk_data] Downloading package averaged_perceptron_tagger_eng to\n",
      "[nltk_data]     C:\\Users\\balendu singh\\AppData\\Roaming\\nltk_data...\n",
      "[nltk_data]   Unzipping taggers\\averaged_perceptron_tagger_eng.zip.\n",
      "[nltk_data] Downloading package wordnet to C:\\Users\\balendu\n",
      "[nltk_data]     singh\\AppData\\Roaming\\nltk_data...\n",
      "[nltk_data]   Package wordnet is already up-to-date!\n"
     ]
    },
    {
     "data": {
      "text/plain": [
       "True"
      ]
     },
     "execution_count": 17,
     "metadata": {},
     "output_type": "execute_result"
    }
   ],
   "source": [
    "nltk.download('punkt')\n",
    "nltk.download('stopwords')\n",
    "nltk.download('averaged_perceptron_tagger_eng')\n",
    "nltk.download('wordnet')"
   ]
  },
  {
   "cell_type": "code",
   "execution_count": 18,
   "id": "1d981bc9-b07f-4ff4-b934-3d039b7067a1",
   "metadata": {},
   "outputs": [],
   "source": [
    "#sample document\n",
    "\n",
    "document=\"MS Dhoni is a legendary Indian cricketer, known for his calm demeanor and exceptional wicket-keeping skills. He is also known as Captain Cool.\""
   ]
  },
  {
   "cell_type": "code",
   "execution_count": 19,
   "id": "bd14bb7c-2ed9-49fc-9f54-4dcfe1c8d56a",
   "metadata": {},
   "outputs": [
    {
     "name": "stdout",
     "output_type": "stream",
     "text": [
      "Tokenization:\n",
      "['MS', 'Dhoni', 'is', 'a', 'legendary', 'Indian', 'cricketer', ',', 'known', 'for', 'his', 'calm', 'demeanor', 'and', 'exceptional', 'wicket-keeping', 'skills', '.', 'He', 'is', 'also', 'known', 'as', 'Captain', 'Cool', '.']\n"
     ]
    }
   ],
   "source": [
    "# 1. Tokenization\n",
    "tokens = word_tokenize(document)\n",
    "print(\"Tokenization:\")\n",
    "print(tokens)\n"
   ]
  },
  {
   "cell_type": "code",
   "execution_count": 20,
   "id": "2978f6f4-f0dd-4e43-a00a-cbdf43614e62",
   "metadata": {},
   "outputs": [
    {
     "name": "stdout",
     "output_type": "stream",
     "text": [
      "POS Tagging:\n",
      "[('MS', 'NNP'), ('Dhoni', 'NNP'), ('is', 'VBZ'), ('a', 'DT'), ('legendary', 'JJ'), ('Indian', 'JJ'), ('cricketer', 'NN'), (',', ','), ('known', 'VBN'), ('for', 'IN'), ('his', 'PRP$'), ('calm', 'NN'), ('demeanor', 'NN'), ('and', 'CC'), ('exceptional', 'JJ'), ('wicket-keeping', 'NN'), ('skills', 'NNS'), ('.', '.'), ('He', 'PRP'), ('is', 'VBZ'), ('also', 'RB'), ('known', 'VBN'), ('as', 'IN'), ('Captain', 'NNP'), ('Cool', 'NNP'), ('.', '.')]\n"
     ]
    }
   ],
   "source": [
    "# 2. POS Tagging\n",
    "pos_tags = pos_tag(tokens)\n",
    "print(\"POS Tagging:\")\n",
    "print(pos_tags)\n"
   ]
  },
  {
   "cell_type": "code",
   "execution_count": 21,
   "id": "223fb92e-b38b-428d-abf1-ce7e8b29c8dd",
   "metadata": {},
   "outputs": [
    {
     "name": "stdout",
     "output_type": "stream",
     "text": [
      "After Stop Words Removal:\n",
      "['MS', 'Dhoni', 'legendary', 'Indian', 'cricketer', 'known', 'calm', 'demeanor', 'exceptional', 'wicket-keeping', 'skills', 'also', 'known', 'Captain', 'Cool']\n"
     ]
    }
   ],
   "source": [
    "# 3. Stop Words Removal\n",
    "stop_words = set(stopwords.words('english'))\n",
    "punctuation = set(string.punctuation)\n",
    "filtered_tokens = [word for word in tokens if word.lower() not in stop_words and word not in punctuation]\n",
    "print(\"After Stop Words Removal:\")\n",
    "print(filtered_tokens)\n"
   ]
  },
  {
   "cell_type": "code",
   "execution_count": 22,
   "id": "3a333149-ce2a-4a75-a700-278cbfb99533",
   "metadata": {},
   "outputs": [
    {
     "name": "stdout",
     "output_type": "stream",
     "text": [
      "Stemming Results:\n",
      "['ms', 'dhoni', 'legendari', 'indian', 'cricket', 'known', 'calm', 'demeanor', 'except', 'wicket-keep', 'skill', 'also', 'known', 'captain', 'cool']\n"
     ]
    }
   ],
   "source": [
    "# 4. Stemming\n",
    "stemmer = PorterStemmer()\n",
    "stemmed_tokens = [stemmer.stem(word) for word in filtered_tokens]\n",
    "print(\"Stemming Results:\")\n",
    "print(stemmed_tokens)\n"
   ]
  },
  {
   "cell_type": "code",
   "execution_count": 23,
   "id": "48c0aaa0-a0f0-4c35-b5b4-1b77c98984d7",
   "metadata": {},
   "outputs": [
    {
     "name": "stdout",
     "output_type": "stream",
     "text": [
      "Lemmatization Results:\n",
      "['MS', 'Dhoni', 'legendary', 'Indian', 'cricketer', 'know', 'calm', 'demeanor', 'exceptional', 'wicket-keeping', 'skill', 'also', 'know', 'Captain', 'Cool']\n"
     ]
    }
   ],
   "source": [
    "# 5. Lemmatization\n",
    "lemmatizer = WordNetLemmatizer()\n",
    "lemmatized_tokens = []\n",
    "for word, tag in pos_tags:\n",
    "    if word.lower() not in stop_words and word not in punctuation:\n",
    "        pos = tag[0].lower()\n",
    "        if pos in ['a', 'r', 'n', 'v']:\n",
    "            lemma = lemmatizer.lemmatize(word, pos=pos)\n",
    "        else:\n",
    "            lemma = lemmatizer.lemmatize(word)\n",
    "        lemmatized_tokens.append(lemma)\n",
    "print(\"Lemmatization Results:\")\n",
    "print(lemmatized_tokens)"
   ]
  },
  {
   "cell_type": "code",
   "execution_count": 24,
   "id": "a2c14be2-1939-4f80-97ee-b3d7d0a6ba57",
   "metadata": {},
   "outputs": [],
   "source": [
    "# Create a small corpus (3 documents)\n",
    "corpus = [\n",
    "    document,\n",
    "    \"Virat Kohli is another great Indian cricketer known for his aggressive batting style.\",\n",
    "    \"Captain Cool is a nickname given to MS Dhoni for his calm leadership.\"\n",
    "]"
   ]
  },
  {
   "cell_type": "code",
   "execution_count": 25,
   "id": "9de4a271-dd51-43a3-a276-bbe6c38424d1",
   "metadata": {},
   "outputs": [],
   "source": [
    "# Create TF-IDF representation\n",
    "vectorizer = TfidfVectorizer(stop_words='english', \n",
    "                            lowercase=True,\n",
    "                            tokenizer=word_tokenize,\n",
    "                            token_pattern=None)\n",
    "tfidf_matrix = vectorizer.fit_transform(corpus)"
   ]
  },
  {
   "cell_type": "code",
   "execution_count": 26,
   "id": "427fe784-3bcf-42f4-9874-9ddad97db2a7",
   "metadata": {},
   "outputs": [],
   "source": [
    "# Get feature names\n",
    "feature_names = vectorizer.get_feature_names_out()"
   ]
  },
  {
   "cell_type": "code",
   "execution_count": 27,
   "id": "480fd769-4ef5-4abe-bf4d-7b62677e8c28",
   "metadata": {},
   "outputs": [
    {
     "name": "stdout",
     "output_type": "stream",
     "text": [
      "\n",
      "TF-IDF Representation:\n",
      "               ,     .  aggressive  batting  calm  captain  cool  cricketer  \\\n",
      "Document 1  0.27  0.32        0.00     0.00  0.21     0.21  0.21       0.21   \n",
      "Document 2  0.00  0.21        0.35     0.35  0.00     0.00  0.00       0.27   \n",
      "Document 3  0.00  0.24        0.00     0.00  0.30     0.30  0.30       0.00   \n",
      "\n",
      "            demeanor  dhoni  ...  known  kohli  leadership  legendary    ms  \\\n",
      "Document 1      0.27   0.21  ...   0.41   0.00         0.0       0.27  0.21   \n",
      "Document 2      0.00   0.00  ...   0.27   0.35         0.0       0.00  0.00   \n",
      "Document 3      0.00   0.30  ...   0.00   0.00         0.4       0.00  0.30   \n",
      "\n",
      "            nickname  skills  style  virat  wicket-keeping  \n",
      "Document 1       0.0    0.27   0.00   0.00            0.27  \n",
      "Document 2       0.0    0.00   0.35   0.35            0.00  \n",
      "Document 3       0.4    0.00   0.00   0.00            0.00  \n",
      "\n",
      "[3 rows x 24 columns]\n"
     ]
    }
   ],
   "source": [
    "# Convert to DataFrame for better visualization\n",
    "import pandas as pd\n",
    "df_tfidf = pd.DataFrame(tfidf_matrix.toarray(), \n",
    "                        columns=feature_names,\n",
    "                        index=['Document 1', 'Document 2', 'Document 3'])\n",
    "\n",
    "print(\"\\nTF-IDF Representation:\")\n",
    "print(df_tfidf.round(2))"
   ]
  },
  {
   "cell_type": "code",
   "execution_count": null,
   "id": "ac853c51-e045-492e-80cf-b8ee9ac5e4ee",
   "metadata": {},
   "outputs": [],
   "source": []
  }
 ],
 "metadata": {
  "kernelspec": {
   "display_name": "pandas_kernel",
   "language": "python",
   "name": "pandas_kernel"
  },
  "language_info": {
   "codemirror_mode": {
    "name": "ipython",
    "version": 3
   },
   "file_extension": ".py",
   "mimetype": "text/x-python",
   "name": "python",
   "nbconvert_exporter": "python",
   "pygments_lexer": "ipython3",
   "version": "3.13.2"
  }
 },
 "nbformat": 4,
 "nbformat_minor": 5
}
